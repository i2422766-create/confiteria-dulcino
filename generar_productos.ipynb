{
  "cells": [
    {
      "cell_type": "markdown",
      "metadata": {},
      "source": [
        "# \ud83d\udcca Generador de Datos Sint\u00e9ticos - Confiter\u00eda Dulcino"
      ]
    },
    {
      "cell_type": "code",
      "execution_count": null,
      "metadata": {},
      "outputs": [],
      "source": [
        "import pandas as pd\n",
        "import random\n",
        "from datetime import datetime\n",
        "\n",
        "ALLOWED_CATEGORIES = [\n",
        "    \"Chocolates\", \"Caramelos\", \"Mashmelos\",\n",
        "    \"Galletas\", \"Salados\", \"Gomas de mascar\"\n",
        "]\n",
        "\n",
        "def generar_producto():\n",
        "    nombre = f\"Prod{random.randint(100, 999)}\"\n",
        "    precio = round(random.uniform(0.5, 998.9), 2)\n",
        "    categorias = random.sample(ALLOWED_CATEGORIES, random.randint(1, 3))\n",
        "    en_venta = random.choice([True, False])\n",
        "    ts = datetime.now().isoformat()\n",
        "    return {\n",
        "        \"nombre\": nombre,\n",
        "        \"precio\": precio,\n",
        "        \"categorias\": \";\".join(categorias),\n",
        "        \"en_venta\": en_venta,\n",
        "        \"ts\": ts\n",
        "    }\n",
        "\n",
        "# Generar 20 productos\n",
        "datos = [generar_producto() for _ in range(20)]\n",
        "df = pd.DataFrame(datos)\n",
        "df.to_csv(\"datos_sinteticos/products.csv\", index=False)\n",
        "df.head()"
      ]
    }
  ],
  "metadata": {
    "kernelspec": {
      "display_name": "Python 3",
      "language": "python",
      "name": "python3"
    },
    "language_info": {
      "name": "python",
      "version": "3.8"
    }
  },
  "nbformat": 4,
  "nbformat_minor": 4
}